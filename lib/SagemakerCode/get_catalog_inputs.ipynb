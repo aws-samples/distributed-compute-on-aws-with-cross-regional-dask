{
 "cells": [
  {
   "cell_type": "code",
   "execution_count": null,
   "id": "e6ab8ba2",
   "metadata": {},
   "outputs": [],
   "source": [
    "from helpers import print_list\n",
    "import ipywidgets as widgets"
   ]
  },
  {
   "cell_type": "code",
   "execution_count": null,
   "id": "18422499",
   "metadata": {},
   "outputs": [],
   "source": [
    "from helpers import print_list\n",
    "# from helpers import get_desired_value_dict"
   ]
  },
  {
   "cell_type": "code",
   "execution_count": null,
   "id": "7b1dcb75",
   "metadata": {},
   "outputs": [],
   "source": [
    "%store -r data_type\n",
    "if data_type == \"historical\":\n",
    "    print(\"Note: because you are doing historical, you don't need to set these inputs, but we are displaying them for UI demo. \")"
   ]
  },
  {
   "cell_type": "code",
   "execution_count": null,
   "id": "8bb64fd1",
   "metadata": {},
   "outputs": [],
   "source": [
    "activity_ids = ['DCPP', # different activities, with multiple members\n",
    "   'ScenarioMIP',\n",
    "   'CMIP',\n",
    "   'GMMIP',\n",
    "   'CDRMIP',\n",
    "   'C4MIP']\n",
    "activity_id = [activity_ids[0]]\n",
    "%store activity_id"
   ]
  },
  {
   "cell_type": "code",
   "execution_count": null,
   "id": "e7d63b81",
   "metadata": {},
   "outputs": [],
   "source": [
    "w = widgets.SelectMultiple(\n",
    "    options=activity_ids,\n",
    "    value=[activity_ids[0]],\n",
    "    description=\"activity: \",\n",
    ")\n",
    "\n",
    "out = widgets.Output()\n",
    "# display(out)\n",
    "\n",
    "\n",
    "@out.capture()\n",
    "def on_change(change):\n",
    "    print('method is called when printing this')\n",
    "    if change['type'] == 'change' and change['name'] == 'value':\n",
    "        global activity_id\n",
    "        activity_id = list(change.new)\n",
    "        %store activity_id\n",
    "w.observe(on_change)\n",
    "\n",
    "\n",
    "whats_below = \"all activity IDs. \\n\\nSelect all that you would like to be included in the dataset.\"\n",
    "print_list(whats_below, [])\n",
    "display(w)"
   ]
  },
  {
   "cell_type": "code",
   "execution_count": null,
   "id": "8f6125af",
   "metadata": {},
   "outputs": [],
   "source": [
    "%%capture\n",
    "whats_below = \"a subset of the table IDs. Select one. \\nNote that there are over 30, so we chose a subset\"\n",
    "table_ids = [\n",
    "    \"Amon\",\n",
    "    \"day\",\n",
    "    \"6hrPlev\",\n",
    "    \"EmonZ\",\n",
    "    \"3hr\"\n",
    "]\n",
    "table_id_dict = {\n",
    "    \"monthly atmostphere\": \"Amon\",\n",
    "    \"daily\": \"day\",\n",
    "    \"three hours\": \"3hr\",\n",
    "    \"pressure level value 6 hours\": \"6hrPlev\",\n",
    "}\n",
    "table_ids_widget = []\n",
    "for table_id_key in table_id_dict:\n",
    "    table_ids_widget.append((table_id_key, table_id_dict[table_id_key]))\n",
    "# table_ids_widget\n",
    "table_id = table_ids_widget[0][1]\n",
    "%store table_id"
   ]
  },
  {
   "cell_type": "code",
   "execution_count": null,
   "id": "ad2a09f4",
   "metadata": {},
   "outputs": [],
   "source": [
    "w = widgets.Dropdown(\n",
    "    options=table_ids_widget,\n",
    "    value=table_ids_widget[0][1],\n",
    "    description=\"table ids: \",\n",
    ")\n",
    "\n",
    "out = widgets.Output()\n",
    "display(out)\n",
    "# table_id = table_ids_widget[0][1]\n",
    "\n",
    "@out.capture()\n",
    "def on_change(change):\n",
    "#     print('method is called when printing this')\n",
    "    if change['type'] == 'change' and change['name'] == 'value':\n",
    "        global table_id\n",
    "        table_id = change.new\n",
    "        %store table_id\n",
    "        print(\"table id value changed to: \" + table_id)\n",
    "w.observe(on_change)\n",
    "\n",
    "\n",
    "print_list(whats_below, [])\n",
    "display(w)\n"
   ]
  },
  {
   "cell_type": "code",
   "execution_count": null,
   "id": "ec24cf44",
   "metadata": {},
   "outputs": [],
   "source": [
    "%%capture\n",
    "# variable id\n",
    "whats_below = \"a subset of the variable IDs. \\nNote that there are over 700 so we are only displaying a subset. \\\n",
    "\\n\\nSelect all that apply.\"\n",
    "variable_ids = [\n",
    "    \"tas\", # tas is air temperature at 2m above surface\n",
    "    \"ta\",\n",
    "    \"tauv\",\n",
    "    \"zg\",\n",
    "    \"rsut\"\n",
    "]\n",
    "\n",
    "\n",
    "variable_id = [variable_ids[0]]\n",
    "%store variable_id"
   ]
  },
  {
   "cell_type": "code",
   "execution_count": null,
   "id": "f12d7c55",
   "metadata": {},
   "outputs": [],
   "source": [
    "w = widgets.SelectMultiple(\n",
    "    options=variable_ids,\n",
    "    value=[variable_ids[0]],\n",
    "    description=\"activity: \",\n",
    ")\n",
    "out = widgets.Output()\n",
    "# display(out)\n",
    "\n",
    "@out.capture()\n",
    "def on_change(change):\n",
    "    print('method is called when printing this')\n",
    "    if change['type'] == 'change' and change['name'] == 'value':\n",
    "        global variable_id\n",
    "        variable_id = list(change.new)\n",
    "        %store variable_id\n",
    "w.observe(on_change)\n",
    "\n",
    "\n",
    "# whats_below = \"all activity IDs\"\n",
    "print_list(whats_below, [])\n",
    "display(w)"
   ]
  }
 ],
 "metadata": {
  "kernelspec": {
   "display_name": "conda_python3",
   "language": "python",
   "name": "conda_python3"
  },
  "language_info": {
   "codemirror_mode": {
    "name": "ipython",
    "version": 3
   },
   "file_extension": ".py",
   "mimetype": "text/x-python",
   "name": "python",
   "nbconvert_exporter": "python",
   "pygments_lexer": "ipython3",
   "version": "3.8.12"
  }
 },
 "nbformat": 4,
 "nbformat_minor": 5
}
