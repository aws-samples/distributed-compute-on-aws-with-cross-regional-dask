{
 "cells": [
  {
   "cell_type": "markdown",
   "id": "4d7851e5",
   "metadata": {},
   "source": [
    "# Processing Example for AWS illustrating a simple Algorithm to Test Infrastucture\n",
    "\n",
    "This is based on using an environment simliar to the one that is created from the ASDI CMPI example: https://github.com/awslabs/amazon-asdi/tree/main/examples/cmip6 (this needs to run in us-east-1 , I think as the CMPI references failed from London)\n",
    "\n",
    "If you want to run this you may need to install some addtional libraries using ```conda install``` from a Terminal"
   ]
  },
  {
   "cell_type": "code",
   "execution_count": null,
   "id": "5f51b52a",
   "metadata": {},
   "outputs": [],
   "source": [
    "%matplotlib inline\n",
    "import xarray as xr\n",
    "import pandas as pd\n",
    "import numpy as np\n",
    "import matplotlib.pyplot as plt\n",
    "import matplotlib\n",
    "import intake\n",
    "import boto3\n",
    "import botocore\n",
    "import datetime\n",
    "import s3fs\n",
    "import fsspec\n",
    "import dask\n",
    "#import sys\n",
    "#import os\n",
    "from opensearchpy import OpenSearch, RequestsHttpConnection, AWSV4SignerAuth\n",
    "from dask.distributed import performance_report, Client, progress, LocalCluster\n",
    "\n",
    "font = {'family' : 'sans-serif',\n",
    "        'weight' : 'normal',\n",
    "        'size'   : 18}\n",
    "matplotlib.rc('font', **font)"
   ]
  },
  {
   "cell_type": "code",
   "execution_count": null,
   "id": "cfa1ef27",
   "metadata": {},
   "outputs": [],
   "source": [
    "import json\n",
    "import sys\n",
    "import boto3\n",
    "import os\n",
    "from boto3.dynamodb.conditions import Key, Attr"
   ]
  },
  {
   "cell_type": "code",
   "execution_count": null,
   "id": "d1ce98b4",
   "metadata": {},
   "outputs": [],
   "source": [
    "#some paramters for regridding\n",
    "regrid_lon=np.arange(0.0,360.0,0.1)\n",
    "regrid_lat=np.arange(-90.0,90.0,0.1)\n",
    "regrid_method='slinear'"
   ]
  },
  {
   "cell_type": "markdown",
   "id": "f827ab0f",
   "metadata": {},
   "source": [
    "# Connect to Dask cluster scheduler\n"
   ]
  },
  {
   "cell_type": "code",
   "execution_count": null,
   "id": "18b9286f",
   "metadata": {},
   "outputs": [],
   "source": [
    "import dask.array as da\n",
    "from dask_worker_pools import pool, propagate_pools, visualize_pools\n"
   ]
  },
  {
   "cell_type": "code",
   "execution_count": null,
   "id": "d630d81f",
   "metadata": {},
   "outputs": [],
   "source": [
    "from dask.distributed import Client\n",
    "import lz4\n",
    "# Client.get_versions('self', check=True)\n",
    "client = Client('Dask-Scheduler.local-dask:8786')\n",
    "# client = Client('Dask-Scheduler.local-dask:8786',serializers=['dask', 'pickle'],\n",
    "#                deserializers=['dask', 'pickle']\n",
    "#               )"
   ]
  },
  {
   "cell_type": "code",
   "execution_count": null,
   "id": "797c4514",
   "metadata": {},
   "outputs": [],
   "source": [
    "client.scheduler_info()['workers']"
   ]
  },
  {
   "cell_type": "markdown",
   "id": "02991bbc",
   "metadata": {},
   "source": [
    "# Get the Climate Prediction"
   ]
  },
  {
   "cell_type": "markdown",
   "id": "62779549",
   "metadata": {},
   "source": [
    "Using the ASDI CMPI6 data which has a ZARR index we can select some data from a scenario. (this is adapted from examples in https://github.com/awslabs/amazon-asdi/tree/main/examples )"
   ]
  },
  {
   "cell_type": "code",
   "execution_count": null,
   "id": "d414cde1",
   "metadata": {},
   "outputs": [],
   "source": [
    "catalog = intake.open_esm_datastore('https://cmip6-pds.s3.amazonaws.com/pangeo-cmip6.json')"
   ]
  },
  {
   "cell_type": "code",
   "execution_count": null,
   "id": "d231271f",
   "metadata": {},
   "outputs": [],
   "source": [
    "%store -r activity_id\n",
    "%store -r variable_id\n",
    "%store -r table_id\n",
    "variable_ids = variable_id # tas is air temperature at 2m above surface\n",
    "table_id = table_id # Monthly data from Atmosphere - would really like this to be daily, but run out of memeory in client ('day' is the id)\n",
    "grid = 'gn' #\n",
    "\n",
    "# Records for Institution, experiment, and source_id are stored in https://github.com/WCRP-CMIP/CMIP6_CVs\n",
    "experiment_id = 'ssp245' #['ssp126', 'ssp245', 'ssp370', 'ssp585'] \n",
    "activity_ids = activity_id # Search Scenarios & CMIP activities only\n",
    "institution_id = 'MOHC' #just looking at our data in this example\n",
    "\n",
    "print(activity_id)\n",
    "print(variable_id)\n",
    "print(table_id)"
   ]
  },
  {
   "cell_type": "code",
   "execution_count": null,
   "id": "e27ffc6e",
   "metadata": {},
   "outputs": [],
   "source": [
    "res = catalog.search(activity_id=activity_ids, experiment_id=experiment_id, variable_id=variable_ids, grid_label=grid, table_id=table_id, institution_id=institution_id)\n",
    "display(res.df)"
   ]
  },
  {
   "cell_type": "code",
   "execution_count": null,
   "id": "592568af",
   "metadata": {},
   "outputs": [],
   "source": [
    "session = boto3.session.Session()\n",
    "my_region = session.region_name"
   ]
  },
  {
   "cell_type": "code",
   "execution_count": null,
   "id": "1b658023",
   "metadata": {},
   "outputs": [],
   "source": [
    "%store -r host\n",
    "credentials = boto3.Session().get_credentials()\n",
    "auth = AWSV4SignerAuth(credentials, my_region)\n",
    "index_name = 'cmip6-pds' ##Update Index name as needed"
   ]
  },
  {
   "cell_type": "code",
   "execution_count": null,
   "id": "b5ba834d",
   "metadata": {},
   "outputs": [],
   "source": [
    "opensearch_client = OpenSearch(\n",
    "        hosts = [{'host': host, 'port': 443}],\n",
    "        http_auth = auth,\n",
    "        use_ssl = True,\n",
    "        verify_certs = True,\n",
    "        connection_class = RequestsHttpConnection\n",
    "        )\n",
    "\n",
    "def search_cmip_query(q):\n",
    "    \n",
    "    queryy = {\n",
    "      'size': 5,\n",
    "      'query': {\n",
    "        'multi_match': {\n",
    "          'query': q,\n",
    "            'fields': ['fileName']\n",
    "        }\n",
    "      }\n",
    "    }\n",
    "\n",
    "    respons = opensearch_client.search(\n",
    "        body = queryy,\n",
    "        index = index_name\n",
    "    )\n",
    "    \n",
    "    res = [i['_source']['fileName'] for i in respons['hits']['hits']]\n",
    "    d_pool = [d['_source']['dask_pool'] for d in respons['hits']['hits']]\n",
    "    regio = [f['_source']['region'] for f in respons['hits']['hits']]\n",
    "    res_fil = list(set([r.split(q.split('/')[-2])[0]+q.split('/')[-2]+\"/\" for r in res]))[0]\n",
    "    regio = list(set(regio))[0]\n",
    "    d_pool = list(set(d_pool))[0]\n",
    "    return res_fil, regio, d_pool"
   ]
  },
  {
   "cell_type": "code",
   "execution_count": null,
   "id": "696ac6a0",
   "metadata": {},
   "outputs": [],
   "source": [
    "res.df['zstore']"
   ]
  },
  {
   "cell_type": "code",
   "execution_count": null,
   "id": "ed9ba27a",
   "metadata": {},
   "outputs": [],
   "source": [
    "data_region = []\n",
    "dask_pool = []\n",
    "index_name"
   ]
  },
  {
   "cell_type": "code",
   "execution_count": null,
   "id": "bec9f741",
   "metadata": {},
   "outputs": [],
   "source": [
    "for s3_path in res.df['zstore']:\n",
    "#     print(s3_path)\n",
    "    query_param = s3_path.split(index_name+'/')[1]\n",
    "    local_pth, regi, d_pool = search_cmip_query(query_param)\n",
    "#     print(regi)\n",
    "    data_region.append(regi)\n",
    "    dask_pool.append(d_pool)\n",
    "    res.df['zstore'] = res.df['zstore'].replace([s3_path], local_pth)\n",
    "\n",
    "data_region = list(set(data_region))[0]\n",
    "region_dask_pool = list(set(dask_pool))[0]"
   ]
  },
  {
   "cell_type": "code",
   "execution_count": null,
   "id": "02c8b757",
   "metadata": {},
   "outputs": [],
   "source": [
    "\n",
    "print(\"Region: {}\".format(data_region))\n",
    "print(\"Dask Pool: {}\".format(dask_pool))"
   ]
  },
  {
   "cell_type": "code",
   "execution_count": null,
   "id": "75c4bc0a",
   "metadata": {},
   "outputs": [],
   "source": [
    "display(res.df)"
   ]
  },
  {
   "cell_type": "code",
   "execution_count": null,
   "id": "36a38489",
   "metadata": {},
   "outputs": [],
   "source": [
    "files_mapper = res.df['zstore'].tolist()\n"
   ]
  },
  {
   "cell_type": "code",
   "execution_count": null,
   "id": "a9ae3c6b",
   "metadata": {},
   "outputs": [],
   "source": [
    "files_mapper"
   ]
  },
  {
   "cell_type": "code",
   "execution_count": null,
   "id": "e89f2125",
   "metadata": {},
   "outputs": [],
   "source": [
    "prediction_pool_region = 'us-west-2'\n",
    "%store prediction_pool_region"
   ]
  },
  {
   "cell_type": "code",
   "execution_count": null,
   "id": "88ba3021",
   "metadata": {},
   "outputs": [],
   "source": [
    "\n",
    "\n",
    "%%time\n",
    "with pool(prediction_pool_region):\n",
    "    datasets = xr.open_mfdataset(files_mapper, engine='zarr', parallel=True, decode_times=True, consolidated=True)\n",
    "    #datasets = res.to_dataset_dict(zarr_kwargs={'consolidated': True, 'decode_times': True})"
   ]
  },
  {
   "cell_type": "code",
   "execution_count": null,
   "id": "2713f89f",
   "metadata": {},
   "outputs": [],
   "source": [
    "predictive_data_set = xr.Dataset()\n",
    "\n",
    "\n",
    "# just select the tail of the date over time (2090-2100)\n",
    "for i in datasets:\n",
    "    ds = datasets[i]\n",
    "    print(ds)\n",
    "    total_times = ds['time'].size\n",
    "    start_index = total_times - (10*12) #this is in months. REally want it to be days\n",
    "    ds2 = ds.isel(time=np.arange(start_index,total_times)) #last 10 years of data\n",
    "    predictive_data_set = xr.merge([predictive_data_set, ds2], compat='override')\n",
    "\n",
    "predictive_data_set\n",
    "%store predictive_data_set\n",
    "\n"
   ]
  },
  {
   "cell_type": "code",
   "execution_count": null,
   "id": "7e7ff885",
   "metadata": {},
   "outputs": [],
   "source": [
    "cost_information = '\\033[1m' + \"The below information is for demonstration only.\" + '\\033[0m' + \" \\nThe total cost for this run was: $X \\nThe amount you have remaining in your account is: $Y \\nTo upgrade, click this link\"\n",
    "%store cost_information"
   ]
  }
 ],
 "metadata": {
  "kernelspec": {
   "display_name": "conda_python3",
   "language": "python",
   "name": "conda_python3"
  },
  "language_info": {
   "codemirror_mode": {
    "name": "ipython",
    "version": 3
   },
   "file_extension": ".py",
   "mimetype": "text/x-python",
   "name": "python",
   "nbconvert_exporter": "python",
   "pygments_lexer": "ipython3",
   "version": "3.8.12"
  }
 },
 "nbformat": 4,
 "nbformat_minor": 5
}
