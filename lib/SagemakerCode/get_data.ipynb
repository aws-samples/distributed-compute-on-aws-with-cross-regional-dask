{
 "cells": [
  {
   "cell_type": "markdown",
   "id": "e9984a95",
   "metadata": {},
   "source": [
    "# Get the data\n",
    "This notebook retrieves the user defined inputs, and executes the correct notebook depending on what the user wants"
   ]
  },
  {
   "cell_type": "code",
   "execution_count": null,
   "id": "085dd87d",
   "metadata": {},
   "outputs": [],
   "source": [
    "%store -r data_type\n",
    "print(data_type)"
   ]
  },
  {
   "cell_type": "code",
   "execution_count": null,
   "id": "e1116548",
   "metadata": {},
   "outputs": [],
   "source": [
    "cost_information = '\\033[1m' + \"The below information is for demonstration only.\" + '\\033[0m' + \" \\nThe total cost for this run was: $X \\nThe amount you have remaining in your account is: $Y \\nTo upgrade, click this link\"\n",
    "%store cost_information"
   ]
  },
  {
   "cell_type": "code",
   "execution_count": null,
   "id": "54dac374",
   "metadata": {},
   "outputs": [],
   "source": [
    "# %%capture\n",
    "import boto3\n",
    "client = boto3.client('ssm')\n",
    "\n",
    "openSearch = client.get_parameter(\n",
    "    Name='client-opensearch-domain-' + client.meta.region_name,\n",
    ")\n",
    "host = openSearch['Parameter']['Value']\n",
    "%store host"
   ]
  },
  {
   "cell_type": "code",
   "execution_count": null,
   "id": "f73f271d",
   "metadata": {},
   "outputs": [],
   "source": [
    "if data_type == \"historical\":\n",
    "    %run get_historical_data.ipynb\n",
    "elif data_type == \"predictive\":\n",
    "    %run get_predictive_data.ipynb\n",
    "elif data_type == \"both\":\n",
    "    %run get_historical_data.ipynb\n",
    "    %run get_predictive_data.ipynb"
   ]
  }
 ],
 "metadata": {
  "kernelspec": {
   "display_name": "conda_python3",
   "language": "python",
   "name": "conda_python3"
  },
  "language_info": {
   "codemirror_mode": {
    "name": "ipython",
    "version": 3
   },
   "file_extension": ".py",
   "mimetype": "text/x-python",
   "name": "python",
   "nbconvert_exporter": "python",
   "pygments_lexer": "ipython3",
   "version": "3.8.12"
  }
 },
 "nbformat": 4,
 "nbformat_minor": 5
}
