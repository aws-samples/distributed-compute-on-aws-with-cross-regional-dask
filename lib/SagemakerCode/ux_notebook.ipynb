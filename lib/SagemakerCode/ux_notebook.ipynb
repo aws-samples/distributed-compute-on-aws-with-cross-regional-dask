{
 "cells": [
  {
   "cell_type": "markdown",
   "id": "f8f7f8fb",
   "metadata": {},
   "source": [
    "# Disclaimer\n",
    "A reminder that this UI is meant to demonstrate the art of the possible. Different components were created in different and possibly disjointed ways to showcase various capabilities. The goal is to help think of what the user experience COULD look like, rather than build a fully functional user interface."
   ]
  },
  {
   "cell_type": "markdown",
   "id": "9af95344",
   "metadata": {},
   "source": [
    "# Overview\n",
    "Welcome to the new way to load data! We have created this notebook so that you can select what type of data you want and then load that data without having to figure out how. You don't need to know where the data is coming from or how to extract it - just pick the specifications you want for the data, run the program, and you will get a dataset returned that you can interact with. \n",
    "\n",
    "## What to expect in each section\n",
    "### Data specification exploration\n",
    "In this section, you will be able to see what types of data specifications you might want to select. For example, we'll show you some of the options for the activities, and you can simply select which activities you are interested in seeing. These come from the Amazon Sustanability Data Initiative, or [ASDI](https://sustainability.aboutamazon.com/environment/the-cloud/amazon-sustainability-data-initiative) if you want to reference or learn more about the data specifications.\n",
    "\n",
    "### Getting the data set\n",
    "Now that you have selected the various data sets, you can simply run the cell to get the data set. Behind the scenes, this dynamically determines where the data is stored, how to extract it, and does so in just a few minutes! Feel free to grab a coffee while you wait for it to run. \n",
    "\n",
    "### Data exploration and analysis\n",
    "Now that you have the data, you can use this section of the notebook to run experiments on the data, plot it, create hypotheses, and eventually publish your data. If you decide you want to examine a different data set, you can start again at the beginning and keep all of the code youve written here to analyze the new returned data set. "
   ]
  },
  {
   "cell_type": "markdown",
   "id": "c4f46b93",
   "metadata": {},
   "source": [
    "# Data specification exploration"
   ]
  },
  {
   "cell_type": "markdown",
   "id": "d17b4369",
   "metadata": {},
   "source": [
    "## View and select the desired inputs for the data\n",
    "The cells below will show you some of the available data, and allow you to specify variables as well as filter down lists to make it easy for you to further specify what data you want. "
   ]
  },
  {
   "cell_type": "code",
   "execution_count": null,
   "id": "b895f537",
   "metadata": {},
   "outputs": [],
   "source": [
    "# Display and save variable categories (e.g. temperature)\n",
    "%run get_variables.ipynb"
   ]
  },
  {
   "cell_type": "markdown",
   "id": "e74049f4",
   "metadata": {},
   "source": [
    "### For demo purposes\n",
    "For demo purposes, let's take a look at the attribute we've stored"
   ]
  },
  {
   "cell_type": "code",
   "execution_count": null,
   "id": "f4a7c00d",
   "metadata": {},
   "outputs": [],
   "source": [
    "%store -r desired_attribute data_type start_date end_date\n",
    "print(desired_attribute)\n",
    "print(data_type)\n",
    "print(start_date)\n",
    "print(end_date)"
   ]
  },
  {
   "cell_type": "markdown",
   "id": "49072235",
   "metadata": {},
   "source": [
    "## Set catalog inputs\n",
    "The cells below will show you some of the available catalog inputs, and allow you to specify variables as well as filter down lists to make it easy for you to further specify what data you want. "
   ]
  },
  {
   "cell_type": "code",
   "execution_count": null,
   "id": "c35518d6",
   "metadata": {},
   "outputs": [],
   "source": [
    "%run get_catalog_inputs.ipynb"
   ]
  },
  {
   "cell_type": "markdown",
   "id": "c5dd3ba4",
   "metadata": {},
   "source": [
    "### For demo purposes\n",
    "For demo purposes, let's take a look at the attribute we've stored"
   ]
  },
  {
   "cell_type": "code",
   "execution_count": null,
   "id": "e9bb8587",
   "metadata": {},
   "outputs": [],
   "source": [
    "%store -r activity_id\n",
    "%store -r variable_id\n",
    "%store -r table_id\n",
    "print(activity_id)\n",
    "print(variable_id)\n",
    "print(table_id)"
   ]
  },
  {
   "cell_type": "markdown",
   "id": "0c38f41b",
   "metadata": {},
   "source": [
    "## Getting the data set\n",
    "Now that we have selected and stored our variables, we will run the script with (some) of those variables as inputs. We will then get the data as a result"
   ]
  },
  {
   "cell_type": "markdown",
   "id": "54a9cc99",
   "metadata": {},
   "source": [
    "#### Run processes to generate data set\n",
    "Use the inputs provided to run the processes to generate the data set using the filters and specifications provided above"
   ]
  },
  {
   "cell_type": "code",
   "execution_count": null,
   "id": "7f75424b",
   "metadata": {},
   "outputs": [],
   "source": [
    "%%time\n",
    "%%capture\n",
    "%run get_data.ipynb"
   ]
  },
  {
   "cell_type": "markdown",
   "id": "7c12a62d",
   "metadata": {},
   "source": [
    "### Cost\n",
    "Now, let's look at how much this calculation cost to run"
   ]
  },
  {
   "cell_type": "code",
   "execution_count": null,
   "id": "4e37fd3f",
   "metadata": {},
   "outputs": [],
   "source": [
    "%store -r cost_information\n",
    "print(cost_information)"
   ]
  },
  {
   "cell_type": "markdown",
   "id": "a1046aaa",
   "metadata": {},
   "source": [
    "## Data exploration and analysis\n",
    "We can now do analysis on the data set with the data as an xarray. The cells below calculate the mean and regrided value for the data set"
   ]
  },
  {
   "cell_type": "code",
   "execution_count": null,
   "id": "199cf9b4",
   "metadata": {},
   "outputs": [],
   "source": [
    "import numpy as np\n",
    "from dask_worker_pools import pool, propagate_pools"
   ]
  },
  {
   "cell_type": "code",
   "execution_count": null,
   "id": "d1afe8a7",
   "metadata": {},
   "outputs": [],
   "source": [
    "#some paramters for regridding\n",
    "regrid_lon=np.arange(0.0,360.0,0.1)\n",
    "regrid_lat=np.arange(-90.0,90.0,0.1)\n",
    "regrid_method='slinear'"
   ]
  },
  {
   "cell_type": "markdown",
   "id": "5e7fc92a",
   "metadata": {},
   "source": [
    "### Predictive"
   ]
  },
  {
   "cell_type": "markdown",
   "id": "247379a6",
   "metadata": {},
   "source": [
    "#### Retrieve calculated data set"
   ]
  },
  {
   "cell_type": "code",
   "execution_count": null,
   "id": "5555042b",
   "metadata": {},
   "outputs": [],
   "source": [
    "%%time\n",
    "if (data_type != \"historical\"):\n",
    "    %store -r prediction_pool_region predictive_data_set\n",
    "    with pool(prediction_pool_region):\n",
    "        predicted_tas_mean = (predictive_data_set['tas']-273).mean(dim='time') #mean\n",
    "        predicted_tas_regridded = predicted_tas_mean.interp(lon=regrid_lon,lat=regrid_lat,method=regrid_method) #dodgy regridding\n",
    "\n",
    "    with pool(prediction_pool_region):\n",
    "        predicted_tas_regridded.compute() #explict compute so you can see where it happens (could just do .plot() but it would be hidden)\n",
    "        predicted_tas_regridded\n",
    "        predicted_tas_regridded.plot(figsize=(14,7))\n",
    "        plt.title(f'2090-2100 Mean {desired_attribute.replace(\"_\",\" \")}')\n",
    "else:\n",
    "    print(\"Did not run predictive calculations for historical data\")"
   ]
  },
  {
   "cell_type": "markdown",
   "id": "3a1dd630",
   "metadata": {},
   "source": [
    "### Historical"
   ]
  },
  {
   "cell_type": "markdown",
   "id": "8abc73b5",
   "metadata": {},
   "source": [
    "#### Perform Calculations"
   ]
  },
  {
   "cell_type": "code",
   "execution_count": null,
   "id": "1cb13da4",
   "metadata": {},
   "outputs": [],
   "source": [
    "%%time\n",
    "if data_type != \"predictive\":\n",
    "    %store -r historical_data historical_pool_region\n",
    "#     %matplotlib widget\n",
    "    with pool(historical_pool_region):\n",
    "        historic_temp_in_C = historical_data[desired_attribute] - 273.0\n",
    "        historic_temp_mean = historic_temp_in_C.mean(dim='time0') #mean\n",
    "        historic_temp_regridded = historic_temp_mean.interp(lon=regrid_lon,lat=regrid_lat,method=regrid_method) #dodgy regrid\n",
    "        historic_temp_regridded.compute()\n",
    "        historic_temp_regridded.plot(figsize=(14,7))\n",
    "\n",
    "        plt.title(f'ERA5 Mean {desired_attribute.replace(\"_\",\" \")}')\n",
    "else:\n",
    "    print(\"Did not run historical calculations for predictive data\")"
   ]
  },
  {
   "cell_type": "markdown",
   "id": "30dc0951",
   "metadata": {},
   "source": [
    "## Publish analysis\n",
    "Once you are ready to publish your analysis, click the button below to publish it as a web page for others to view"
   ]
  },
  {
   "cell_type": "code",
   "execution_count": null,
   "id": "aedced1f",
   "metadata": {},
   "outputs": [],
   "source": [
    "%run publish_research.ipynb"
   ]
  },
  {
   "cell_type": "code",
   "execution_count": null,
   "id": "62ffda82",
   "metadata": {},
   "outputs": [],
   "source": []
  }
 ],
 "metadata": {
  "kernelspec": {
   "display_name": "conda_python3",
   "language": "python",
   "name": "conda_python3"
  },
  "language_info": {
   "codemirror_mode": {
    "name": "ipython",
    "version": 3
   },
   "file_extension": ".py",
   "mimetype": "text/x-python",
   "name": "python",
   "nbconvert_exporter": "python",
   "pygments_lexer": "ipython3",
   "version": "3.8.12"
  }
 },
 "nbformat": 4,
 "nbformat_minor": 5
}
