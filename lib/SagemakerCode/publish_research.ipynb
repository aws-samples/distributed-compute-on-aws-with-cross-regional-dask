{
 "cells": [
  {
   "cell_type": "code",
   "execution_count": null,
   "id": "78b0ab4d",
   "metadata": {},
   "outputs": [],
   "source": [
    "import ipywidgets as widgets"
   ]
  },
  {
   "cell_type": "code",
   "execution_count": null,
   "id": "b53d2957",
   "metadata": {},
   "outputs": [],
   "source": [
    "button = widgets.Button(\n",
    "    description='Publish',\n",
    "    disabled=False,\n",
    "    button_style='success', # 'success', 'info', 'warning', 'danger' or ''\n",
    "    tooltip='Publish',\n",
    "    icon='share' # (FontAwesome names without the `fa-` prefix)\n",
    ")\n",
    "# print(\"running...\")"
   ]
  },
  {
   "cell_type": "code",
   "execution_count": null,
   "id": "48505733",
   "metadata": {},
   "outputs": [],
   "source": [
    "out = widgets.Output()\n",
    "display(out)\n",
    "\n",
    "@out.capture()\n",
    "def print_success(e):\n",
    "    print(\"Congratulations! Published to fake_link.com\")\n",
    "\n",
    "button.on_click(print_success)"
   ]
  },
  {
   "cell_type": "code",
   "execution_count": null,
   "id": "1ccc58bc",
   "metadata": {},
   "outputs": [],
   "source": [
    "display(button)"
   ]
  }
 ],
 "metadata": {
  "kernelspec": {
   "display_name": "conda_python3",
   "language": "python",
   "name": "conda_python3"
  },
  "language_info": {
   "codemirror_mode": {
    "name": "ipython",
    "version": 3
   },
   "file_extension": ".py",
   "mimetype": "text/x-python",
   "name": "python",
   "nbconvert_exporter": "python",
   "pygments_lexer": "ipython3",
   "version": "3.8.12"
  }
 },
 "nbformat": 4,
 "nbformat_minor": 5
}
