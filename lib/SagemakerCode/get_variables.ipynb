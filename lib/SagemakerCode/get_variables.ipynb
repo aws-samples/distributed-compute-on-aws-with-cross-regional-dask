{
 "cells": [
  {
   "cell_type": "markdown",
   "id": "c7c68e4e",
   "metadata": {},
   "source": [
    "### Now lets take a look at the available variable types"
   ]
  },
  {
   "cell_type": "code",
   "execution_count": null,
   "id": "81a28ffd",
   "metadata": {},
   "outputs": [],
   "source": [
    "from helpers import print_list, create_dropdown\n",
    "import ipywidgets as widgets"
   ]
  },
  {
   "cell_type": "code",
   "execution_count": null,
   "id": "1fe01df5",
   "metadata": {},
   "outputs": [],
   "source": [
    "%%capture\n",
    "data_options = ['predictive','historical', 'both']\n",
    "data_type = data_options[0]\n",
    "%store data_type"
   ]
  },
  {
   "cell_type": "code",
   "execution_count": null,
   "id": "d24a308e",
   "metadata": {},
   "outputs": [],
   "source": [
    "w = widgets.RadioButtons(\n",
    "    options=data_options,\n",
    "    description='Data type:',\n",
    "    disabled=False\n",
    ")\n",
    "\n",
    "\n",
    "out = widgets.Output()\n",
    "# display(out)\n",
    "\n",
    "@out.capture()\n",
    "def on_change(change):\n",
    "#     print('method is called when printing this')\n",
    "    if change['type'] == 'change' and change['name'] == 'value':\n",
    "        global data_type\n",
    "        data_type = change.new\n",
    "        %store data_type\n",
    "#         print(\"data type changed to: \" + data_type)\n",
    "w.observe(on_change)\n",
    "\n",
    "\n",
    "print_list(\"the options for the data type.\", [])\n",
    "display(w)"
   ]
  },
  {
   "cell_type": "code",
   "execution_count": null,
   "id": "997da781",
   "metadata": {},
   "outputs": [],
   "source": [
    "# print('\\033[1m' + \"Here are the available variable categories:\" '\\033[1m' + )\n",
    "variable_types = [\n",
    "    \"temperature\",\n",
    "    \"wind\",\n",
    "    \"wave\",\n",
    "    \"precipitation\",\n",
    "    \"snow\",\n",
    "    \"air_pressure\"\n",
    "]\n",
    "\n",
    "# w = create_dropdown(variable_types, widgets, \"variable type: \")\n"
   ]
  },
  {
   "cell_type": "code",
   "execution_count": null,
   "id": "9cc850fa",
   "metadata": {},
   "outputs": [],
   "source": [
    "variable_type = print_list(\"available variable categories\", variable_types)\n",
    "variable_type"
   ]
  },
  {
   "cell_type": "code",
   "execution_count": null,
   "id": "837148f8",
   "metadata": {},
   "outputs": [],
   "source": [
    "%%capture\n",
    "allowed_variables = [\n",
    "    \"air_temperature_at_2_metres\",\n",
    "    \"air_pressure_at_mean_sea_level\",\n",
    "    \"eastward_wind_at_10_metres\", \n",
    "    \"sea_surface_temperature\",\n",
    "    \"air_temperature_at_2_metres\", \n",
    "    \"integral_wrt_time_of_surface_direct_downwelling_shortwave_flux_in_air_1hour_Accumulation\", \n",
    "    \"sea_surface_wave_from_direction\",\n",
    "    \"air_temperature_at_2_metres_1hour_Maximum\", \n",
    "    \"lwe_thickness_of_surface_snow_amount\", \n",
    "    \"sea_surface_wave_mean_period\",\n",
    "    \"air_temperature_at_2_metres_1hour_Minimum\", \n",
    "    \"northward_wind_at_100_metres\", \n",
    "    \"significant_height_of_wind_and_swell_waves\",\n",
    "    \"dew_point_temperature_at_2_metres\", \n",
    "    \"northward_wind_at_10_metres\", \n",
    "    \"snow_density\",\n",
    "    \"eastward_wind_at_100_metres\", \n",
    "    \"precipitation_amount_1hour_Accumulation\", \n",
    "    \"surface_air_pressure\",   \n",
    "]\n",
    "\n",
    "# %store -r variable_type\n",
    "\n",
    "\n",
    "filtered_vars = [x for x in allowed_variables if variable_type in x]\n",
    "desired_attribute = filtered_vars[0]\n",
    "%store desired_attribute"
   ]
  },
  {
   "cell_type": "code",
   "execution_count": null,
   "id": "bc009163",
   "metadata": {},
   "outputs": [],
   "source": [
    "w = widgets.Dropdown(\n",
    "    options=filtered_vars,\n",
    "    value=filtered_vars[0],\n",
    "    description=\"variable: \",\n",
    ")\n",
    "\n",
    "out = widgets.Output()\n",
    "# display(out)\n",
    "# desired_attribute = filtered_vars[0]\n",
    "\n",
    "@out.capture()\n",
    "def on_change(change):\n",
    "#     print('method is called when printing this')\n",
    "    if change['type'] == 'change' and change['name'] == 'value':\n",
    "        global desired_attribute\n",
    "        desired_attribute = change.new\n",
    "        %store desired_attribute\n",
    "        print(\"desired attribute changed to: \" + desired_attribute)\n",
    "w.observe(on_change)\n",
    "\n",
    "\n",
    "print_list(\"the options for the variable.\", [])\n",
    "display(w)"
   ]
  },
  {
   "cell_type": "code",
   "execution_count": null,
   "id": "a838cbfe",
   "metadata": {},
   "outputs": [],
   "source": [
    "# %store desired_attribute\n",
    "lister = []\n",
    "if(lister):\n",
    "    print(\"klist\")\n",
    "    "
   ]
  },
  {
   "cell_type": "code",
   "execution_count": null,
   "id": "21c69d19",
   "metadata": {},
   "outputs": [],
   "source": [
    "# if(data_type != \"predictive\"):\n",
    "w = widgets.DatePicker(\n",
    "    description='Start Date',\n",
    "    disabled=False\n",
    ")\n",
    "\n",
    "out = widgets.Output()\n",
    "# display(out)\n",
    "# desired_attribute = filtered_vars[0]\n",
    "\n",
    "@out.capture()\n",
    "def on_change(change):\n",
    "#     print('method is called when printing this')\n",
    "    if change['type'] == 'change' and change['name'] == 'value':\n",
    "        global start_date\n",
    "        start_date = change.new\n",
    "        %store start_date\n",
    "        print(start_date)\n",
    "w.observe(on_change)\n",
    "print_list(\"the start and end dates.\", [])\n",
    "display(w)\n",
    "\n",
    "w2 = widgets.DatePicker(\n",
    "    description='End Date',\n",
    "    disabled=False\n",
    ")\n",
    "\n",
    "out2 = widgets.Output()\n",
    "# display(out2)\n",
    "# desired_attribute = filtered_vars[0]\n",
    "\n",
    "@out2.capture()\n",
    "def on_change(change):\n",
    "#     print('method is called when printing this')\n",
    "    if change['type'] == 'change' and change['name'] == 'value':\n",
    "        global end_date\n",
    "        end_date = change.new\n",
    "        %store end_date\n",
    "        print(end_date)\n",
    "w2.observe(on_change)\n",
    "\n",
    "\n",
    "# print_list(\"the start and end dates.\", [])\n",
    "display(w2)"
   ]
  }
 ],
 "metadata": {
  "kernelspec": {
   "display_name": "conda_python3",
   "language": "python",
   "name": "conda_python3"
  },
  "language_info": {
   "codemirror_mode": {
    "name": "ipython",
    "version": 3
   },
   "file_extension": ".py",
   "mimetype": "text/x-python",
   "name": "python",
   "nbconvert_exporter": "python",
   "pygments_lexer": "ipython3",
   "version": "3.8.12"
  }
 },
 "nbformat": 4,
 "nbformat_minor": 5
}
